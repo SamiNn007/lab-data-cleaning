{
 "cells": [
  {
   "cell_type": "code",
   "execution_count": null,
   "metadata": {},
   "outputs": [],
   "source": []
  }
 ],
 "metadata": {
  "kernelspec": {
   "display_name": "Python 3.9.13 ('ClassJuly7')",
   "language": "python",
   "name": "python3"
  },
  "language_info": {
   "name": "python",
   "version": "3.9.13"
  },
  "orig_nbformat": 4,
  "vscode": {
   "interpreter": {
    "hash": "26ce022d4acb40739b66637a34781e557fcd0150734cbabfddd6b99484a439c0"
   }
  }
 },
 "nbformat": 4,
 "nbformat_minor": 2
}
